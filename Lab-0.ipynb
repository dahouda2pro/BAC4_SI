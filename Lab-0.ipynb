{
 "cells": [
  {
   "cell_type": "markdown",
   "id": "b9de80fe-143c-4465-bd08-cbe1e385ec70",
   "metadata": {},
   "source": [
    "# Importation de Packages"
   ]
  },
  {
   "cell_type": "markdown",
   "id": "e69d339d-43aa-427e-897c-15d89df3ce49",
   "metadata": {},
   "source": [
    "## 1.1. Manipulation des tableaux"
   ]
  },
  {
   "cell_type": "code",
   "execution_count": 83,
   "id": "ef4a1cc8-193d-4a66-80eb-ea45fe493444",
   "metadata": {},
   "outputs": [],
   "source": [
    "# Importation de packages\n",
    "import numpy as np\n",
    "import pandas as pd\n",
    "import matplotlib.pyplot as plt"
   ]
  },
  {
   "cell_type": "code",
   "execution_count": 36,
   "id": "73283345-9882-4996-955c-cc5ca4c9f1e0",
   "metadata": {},
   "outputs": [],
   "source": [
    "tab_1D = np.array([2, 4, 6, 8])"
   ]
  },
  {
   "cell_type": "code",
   "execution_count": 37,
   "id": "97799bfe-40cd-4e19-9fc0-9f29c55492b7",
   "metadata": {},
   "outputs": [
    {
     "data": {
      "text/plain": [
       "array([2, 4, 6, 8])"
      ]
     },
     "execution_count": 37,
     "metadata": {},
     "output_type": "execute_result"
    }
   ],
   "source": [
    "tab_1D"
   ]
  },
  {
   "cell_type": "code",
   "execution_count": 38,
   "id": "1f0e54f9-6605-4379-8047-ee43c5bd7a15",
   "metadata": {},
   "outputs": [
    {
     "name": "stdout",
     "output_type": "stream",
     "text": [
      "[2 4 6 8]\n"
     ]
    }
   ],
   "source": [
    "print(tab_1D)"
   ]
  },
  {
   "cell_type": "code",
   "execution_count": 39,
   "id": "ccc6ee84-bc06-406f-b59d-d07d606d72b1",
   "metadata": {},
   "outputs": [
    {
     "data": {
      "text/plain": [
       "(4,)"
      ]
     },
     "execution_count": 39,
     "metadata": {},
     "output_type": "execute_result"
    }
   ],
   "source": [
    "tab_1D.shape"
   ]
  },
  {
   "cell_type": "code",
   "execution_count": 40,
   "id": "ef6a9313-30e8-4a19-a6b9-05c7b6940c93",
   "metadata": {},
   "outputs": [
    {
     "name": "stdout",
     "output_type": "stream",
     "text": [
      "[2 4 6 8]\n",
      "Type <class 'numpy.ndarray'>\n",
      "(4,)\n"
     ]
    }
   ],
   "source": [
    "print(tab_1D)\n",
    "print(\"Type\", type(tab_1D))\n",
    "print(tab_1D.shape)"
   ]
  },
  {
   "cell_type": "code",
   "execution_count": 41,
   "id": "7bcb64b4-b0bc-4474-b4c8-a2925f436604",
   "metadata": {},
   "outputs": [],
   "source": [
    "tab_2D = np.array([\n",
    "    [2, 4, 6, 8, 10],\n",
    "    [1, 3, 5, 7, 9]\n",
    "])"
   ]
  },
  {
   "cell_type": "code",
   "execution_count": 42,
   "id": "e8869c54-382b-4505-8ea7-fab1d6c321a3",
   "metadata": {},
   "outputs": [
    {
     "data": {
      "text/plain": [
       "array([[ 2,  4,  6,  8, 10],\n",
       "       [ 1,  3,  5,  7,  9]])"
      ]
     },
     "execution_count": 42,
     "metadata": {},
     "output_type": "execute_result"
    }
   ],
   "source": [
    "tab_2D"
   ]
  },
  {
   "cell_type": "code",
   "execution_count": 43,
   "id": "357d125d-f062-432b-9eb2-b05de9b5c887",
   "metadata": {},
   "outputs": [
    {
     "name": "stdout",
     "output_type": "stream",
     "text": [
      "[[ 2  4  6  8 10]\n",
      " [ 1  3  5  7  9]]\n",
      "(2, 5)\n"
     ]
    }
   ],
   "source": [
    "print(tab_2D)\n",
    "print(tab_2D.shape)"
   ]
  },
  {
   "cell_type": "code",
   "execution_count": 44,
   "id": "5e016d6d-f8dc-4b48-bf81-954b9553930a",
   "metadata": {},
   "outputs": [
    {
     "data": {
      "text/plain": [
       "6"
      ]
     },
     "execution_count": 44,
     "metadata": {},
     "output_type": "execute_result"
    }
   ],
   "source": [
    "tab_2D[0][2]"
   ]
  },
  {
   "cell_type": "code",
   "execution_count": 45,
   "id": "cb08628b-f98c-443a-b286-204e4a74a0b0",
   "metadata": {},
   "outputs": [],
   "source": [
    "tab_3D = np.array([[[10, 29]]])"
   ]
  },
  {
   "cell_type": "code",
   "execution_count": 46,
   "id": "ec45b75c-755b-42ae-a9ab-1fc94c2fd10b",
   "metadata": {},
   "outputs": [
    {
     "name": "stdout",
     "output_type": "stream",
     "text": [
      "[[[10 29]]]\n",
      "(1, 1, 2)\n"
     ]
    }
   ],
   "source": [
    "print(tab_3D)\n",
    "print(tab_3D.shape)"
   ]
  },
  {
   "cell_type": "markdown",
   "id": "340fbfab-ea82-4571-b81d-9148f9cfa876",
   "metadata": {},
   "source": [
    "# 2. Manipulation des donnees"
   ]
  },
  {
   "cell_type": "code",
   "execution_count": 47,
   "id": "f8b1f683-a206-4f94-a7b8-3fe11f10c772",
   "metadata": {},
   "outputs": [],
   "source": [
    "etudiants_BAC4_SI = {\n",
    "    'Nom': 'KISIMBIKA',\n",
    "    'Prenom': 'Gloire',\n",
    "    'Matricule': '2021020025',\n",
    "    'Promotion': 'BAC4 SI',\n",
    "    'Age': 24\n",
    "} "
   ]
  },
  {
   "cell_type": "code",
   "execution_count": 48,
   "id": "6c29f7a9-8373-44c0-b2c8-23a6a9de30a8",
   "metadata": {},
   "outputs": [
    {
     "data": {
      "text/plain": [
       "{'Nom': 'KISIMBIKA',\n",
       " 'Prenom': 'Gloire',\n",
       " 'Matricule': '2021020025',\n",
       " 'Promotion': 'BAC4 SI',\n",
       " 'Age': 24}"
      ]
     },
     "execution_count": 48,
     "metadata": {},
     "output_type": "execute_result"
    }
   ],
   "source": [
    "etudiants_BAC4_SI"
   ]
  },
  {
   "cell_type": "code",
   "execution_count": 49,
   "id": "0df0d2f9-a5c7-4a30-942c-4c90d25908d8",
   "metadata": {},
   "outputs": [
    {
     "name": "stdout",
     "output_type": "stream",
     "text": [
      "{'Nom': 'KISIMBIKA', 'Prenom': 'Gloire', 'Matricule': '2021020025', 'Promotion': 'BAC4 SI', 'Age': 24}\n"
     ]
    }
   ],
   "source": [
    "print(etudiants_BAC4_SI)"
   ]
  },
  {
   "cell_type": "code",
   "execution_count": 50,
   "id": "59a63f2c-f6ca-40a1-a3d9-10d03abb0546",
   "metadata": {},
   "outputs": [],
   "source": [
    "etudiants_BAC4_SI_2 = {\n",
    "    'Nom': ['KISIMBIKA', 'MWEPU', 'MUSAU', 'KAVUL', 'MONGA'],\n",
    "    'Prenom': ['Gloire','Cledia','Christelle', 'Eunice', 'Issac'],\n",
    "    'Matricule': ['2021020025', '2021021233', '2021020096', '2021021094','2021021177'],\n",
    "    'Promotion': ['BAC4 SI', 'BAC4 SI', 'BAC4 SI', 'BAC4 SI', 'BAC4 SI'],\n",
    "    'Age': [24, 20, 21, 24, 23]\n",
    "} "
   ]
  },
  {
   "cell_type": "code",
   "execution_count": 51,
   "id": "6ac01c89-bf81-4493-ab30-409c92c5170d",
   "metadata": {},
   "outputs": [
    {
     "data": {
      "text/plain": [
       "{'Nom': ['KISIMBIKA', 'MWEPU', 'MUSAU', 'KAVUL', 'MONGA'],\n",
       " 'Prenom': ['Gloire', 'Cledia', 'Christelle', 'Eunice', 'Issac'],\n",
       " 'Matricule': ['2021020025',\n",
       "  '2021021233',\n",
       "  '2021020096',\n",
       "  '2021021094',\n",
       "  '2021021177'],\n",
       " 'Promotion': ['BAC4 SI', 'BAC4 SI', 'BAC4 SI', 'BAC4 SI', 'BAC4 SI'],\n",
       " 'Age': [24, 20, 21, 24, 23]}"
      ]
     },
     "execution_count": 51,
     "metadata": {},
     "output_type": "execute_result"
    }
   ],
   "source": [
    "etudiants_BAC4_SI_2"
   ]
  },
  {
   "cell_type": "code",
   "execution_count": 52,
   "id": "9fc7c220-097d-4f6f-bb14-8774994c401c",
   "metadata": {},
   "outputs": [],
   "source": [
    "data = pd.DataFrame(etudiants_BAC4_SI_2)"
   ]
  },
  {
   "cell_type": "code",
   "execution_count": 53,
   "id": "5342fd62-2ba8-4e64-8cc4-89ff68a99990",
   "metadata": {},
   "outputs": [
    {
     "data": {
      "text/html": [
       "<div>\n",
       "<style scoped>\n",
       "    .dataframe tbody tr th:only-of-type {\n",
       "        vertical-align: middle;\n",
       "    }\n",
       "\n",
       "    .dataframe tbody tr th {\n",
       "        vertical-align: top;\n",
       "    }\n",
       "\n",
       "    .dataframe thead th {\n",
       "        text-align: right;\n",
       "    }\n",
       "</style>\n",
       "<table border=\"1\" class=\"dataframe\">\n",
       "  <thead>\n",
       "    <tr style=\"text-align: right;\">\n",
       "      <th></th>\n",
       "      <th>Nom</th>\n",
       "      <th>Prenom</th>\n",
       "      <th>Matricule</th>\n",
       "      <th>Promotion</th>\n",
       "      <th>Age</th>\n",
       "    </tr>\n",
       "  </thead>\n",
       "  <tbody>\n",
       "    <tr>\n",
       "      <th>0</th>\n",
       "      <td>KISIMBIKA</td>\n",
       "      <td>Gloire</td>\n",
       "      <td>2021020025</td>\n",
       "      <td>BAC4 SI</td>\n",
       "      <td>24</td>\n",
       "    </tr>\n",
       "    <tr>\n",
       "      <th>1</th>\n",
       "      <td>MWEPU</td>\n",
       "      <td>Cledia</td>\n",
       "      <td>2021021233</td>\n",
       "      <td>BAC4 SI</td>\n",
       "      <td>20</td>\n",
       "    </tr>\n",
       "    <tr>\n",
       "      <th>2</th>\n",
       "      <td>MUSAU</td>\n",
       "      <td>Christelle</td>\n",
       "      <td>2021020096</td>\n",
       "      <td>BAC4 SI</td>\n",
       "      <td>21</td>\n",
       "    </tr>\n",
       "    <tr>\n",
       "      <th>3</th>\n",
       "      <td>KAVUL</td>\n",
       "      <td>Eunice</td>\n",
       "      <td>2021021094</td>\n",
       "      <td>BAC4 SI</td>\n",
       "      <td>24</td>\n",
       "    </tr>\n",
       "    <tr>\n",
       "      <th>4</th>\n",
       "      <td>MONGA</td>\n",
       "      <td>Issac</td>\n",
       "      <td>2021021177</td>\n",
       "      <td>BAC4 SI</td>\n",
       "      <td>23</td>\n",
       "    </tr>\n",
       "  </tbody>\n",
       "</table>\n",
       "</div>"
      ],
      "text/plain": [
       "         Nom      Prenom   Matricule Promotion  Age\n",
       "0  KISIMBIKA      Gloire  2021020025   BAC4 SI   24\n",
       "1      MWEPU      Cledia  2021021233   BAC4 SI   20\n",
       "2      MUSAU  Christelle  2021020096   BAC4 SI   21\n",
       "3      KAVUL      Eunice  2021021094   BAC4 SI   24\n",
       "4      MONGA       Issac  2021021177   BAC4 SI   23"
      ]
     },
     "execution_count": 53,
     "metadata": {},
     "output_type": "execute_result"
    }
   ],
   "source": [
    "data"
   ]
  },
  {
   "cell_type": "code",
   "execution_count": 56,
   "id": "b7d40597-00b2-4b24-abbc-df9bea24b888",
   "metadata": {},
   "outputs": [
    {
     "name": "stdout",
     "output_type": "stream",
     "text": [
      "<class 'pandas.core.frame.DataFrame'>\n",
      "RangeIndex: 5 entries, 0 to 4\n",
      "Data columns (total 5 columns):\n",
      " #   Column     Non-Null Count  Dtype \n",
      "---  ------     --------------  ----- \n",
      " 0   Nom        5 non-null      object\n",
      " 1   Prenom     5 non-null      object\n",
      " 2   Matricule  5 non-null      object\n",
      " 3   Promotion  5 non-null      object\n",
      " 4   Age        5 non-null      int64 \n",
      "dtypes: int64(1), object(4)\n",
      "memory usage: 328.0+ bytes\n"
     ]
    }
   ],
   "source": [
    "data.info()"
   ]
  },
  {
   "cell_type": "code",
   "execution_count": 57,
   "id": "e00cde49-39aa-4253-adc5-8271dacd59bf",
   "metadata": {},
   "outputs": [
    {
     "data": {
      "text/plain": [
       "(5, 5)"
      ]
     },
     "execution_count": 57,
     "metadata": {},
     "output_type": "execute_result"
    }
   ],
   "source": [
    "data.shape"
   ]
  },
  {
   "cell_type": "code",
   "execution_count": 60,
   "id": "b96f7d84-1778-4a89-86c5-06d553bdbd27",
   "metadata": {},
   "outputs": [
    {
     "data": {
      "text/html": [
       "<div>\n",
       "<style scoped>\n",
       "    .dataframe tbody tr th:only-of-type {\n",
       "        vertical-align: middle;\n",
       "    }\n",
       "\n",
       "    .dataframe tbody tr th {\n",
       "        vertical-align: top;\n",
       "    }\n",
       "\n",
       "    .dataframe thead th {\n",
       "        text-align: right;\n",
       "    }\n",
       "</style>\n",
       "<table border=\"1\" class=\"dataframe\">\n",
       "  <thead>\n",
       "    <tr style=\"text-align: right;\">\n",
       "      <th></th>\n",
       "      <th>Nom</th>\n",
       "      <th>Prenom</th>\n",
       "      <th>Matricule</th>\n",
       "      <th>Promotion</th>\n",
       "      <th>Age</th>\n",
       "    </tr>\n",
       "  </thead>\n",
       "  <tbody>\n",
       "    <tr>\n",
       "      <th>0</th>\n",
       "      <td>KISIMBIKA</td>\n",
       "      <td>Gloire</td>\n",
       "      <td>2021020025</td>\n",
       "      <td>BAC4 SI</td>\n",
       "      <td>24</td>\n",
       "    </tr>\n",
       "    <tr>\n",
       "      <th>1</th>\n",
       "      <td>MWEPU</td>\n",
       "      <td>Cledia</td>\n",
       "      <td>2021021233</td>\n",
       "      <td>BAC4 SI</td>\n",
       "      <td>20</td>\n",
       "    </tr>\n",
       "    <tr>\n",
       "      <th>2</th>\n",
       "      <td>MUSAU</td>\n",
       "      <td>Christelle</td>\n",
       "      <td>2021020096</td>\n",
       "      <td>BAC4 SI</td>\n",
       "      <td>21</td>\n",
       "    </tr>\n",
       "    <tr>\n",
       "      <th>3</th>\n",
       "      <td>KAVUL</td>\n",
       "      <td>Eunice</td>\n",
       "      <td>2021021094</td>\n",
       "      <td>BAC4 SI</td>\n",
       "      <td>24</td>\n",
       "    </tr>\n",
       "    <tr>\n",
       "      <th>4</th>\n",
       "      <td>MONGA</td>\n",
       "      <td>Issac</td>\n",
       "      <td>2021021177</td>\n",
       "      <td>BAC4 SI</td>\n",
       "      <td>23</td>\n",
       "    </tr>\n",
       "  </tbody>\n",
       "</table>\n",
       "</div>"
      ],
      "text/plain": [
       "         Nom      Prenom   Matricule Promotion  Age\n",
       "0  KISIMBIKA      Gloire  2021020025   BAC4 SI   24\n",
       "1      MWEPU      Cledia  2021021233   BAC4 SI   20\n",
       "2      MUSAU  Christelle  2021020096   BAC4 SI   21\n",
       "3      KAVUL      Eunice  2021021094   BAC4 SI   24\n",
       "4      MONGA       Issac  2021021177   BAC4 SI   23"
      ]
     },
     "execution_count": 60,
     "metadata": {},
     "output_type": "execute_result"
    }
   ],
   "source": [
    "data.head()"
   ]
  },
  {
   "cell_type": "code",
   "execution_count": 61,
   "id": "9484566c-6a76-4e1b-8540-def1c20c68da",
   "metadata": {},
   "outputs": [
    {
     "data": {
      "text/html": [
       "<div>\n",
       "<style scoped>\n",
       "    .dataframe tbody tr th:only-of-type {\n",
       "        vertical-align: middle;\n",
       "    }\n",
       "\n",
       "    .dataframe tbody tr th {\n",
       "        vertical-align: top;\n",
       "    }\n",
       "\n",
       "    .dataframe thead th {\n",
       "        text-align: right;\n",
       "    }\n",
       "</style>\n",
       "<table border=\"1\" class=\"dataframe\">\n",
       "  <thead>\n",
       "    <tr style=\"text-align: right;\">\n",
       "      <th></th>\n",
       "      <th>Nom</th>\n",
       "      <th>Prenom</th>\n",
       "      <th>Matricule</th>\n",
       "      <th>Promotion</th>\n",
       "      <th>Age</th>\n",
       "      <th>Genre</th>\n",
       "    </tr>\n",
       "  </thead>\n",
       "  <tbody>\n",
       "    <tr>\n",
       "      <th>0</th>\n",
       "      <td>KISIMBIKA</td>\n",
       "      <td>Gloire</td>\n",
       "      <td>2021020025</td>\n",
       "      <td>BAC4 SI</td>\n",
       "      <td>24</td>\n",
       "      <td>M</td>\n",
       "    </tr>\n",
       "    <tr>\n",
       "      <th>1</th>\n",
       "      <td>MWEPU</td>\n",
       "      <td>Cledia</td>\n",
       "      <td>2021021233</td>\n",
       "      <td>BAC4 SI</td>\n",
       "      <td>20</td>\n",
       "      <td>F</td>\n",
       "    </tr>\n",
       "    <tr>\n",
       "      <th>2</th>\n",
       "      <td>MUSAU</td>\n",
       "      <td>Christelle</td>\n",
       "      <td>2021020096</td>\n",
       "      <td>BAC4 SI</td>\n",
       "      <td>21</td>\n",
       "      <td>F</td>\n",
       "    </tr>\n",
       "    <tr>\n",
       "      <th>3</th>\n",
       "      <td>KAVUL</td>\n",
       "      <td>Eunice</td>\n",
       "      <td>2021021094</td>\n",
       "      <td>BAC4 SI</td>\n",
       "      <td>24</td>\n",
       "      <td>F</td>\n",
       "    </tr>\n",
       "    <tr>\n",
       "      <th>4</th>\n",
       "      <td>MONGA</td>\n",
       "      <td>Issac</td>\n",
       "      <td>2021021177</td>\n",
       "      <td>BAC4 SI</td>\n",
       "      <td>23</td>\n",
       "      <td>M</td>\n",
       "    </tr>\n",
       "  </tbody>\n",
       "</table>\n",
       "</div>"
      ],
      "text/plain": [
       "         Nom      Prenom   Matricule Promotion  Age Genre\n",
       "0  KISIMBIKA      Gloire  2021020025   BAC4 SI   24     M\n",
       "1      MWEPU      Cledia  2021021233   BAC4 SI   20     F\n",
       "2      MUSAU  Christelle  2021020096   BAC4 SI   21     F\n",
       "3      KAVUL      Eunice  2021021094   BAC4 SI   24     F\n",
       "4      MONGA       Issac  2021021177   BAC4 SI   23     M"
      ]
     },
     "execution_count": 61,
     "metadata": {},
     "output_type": "execute_result"
    }
   ],
   "source": [
    "data['Genre'] = ['M','F', 'F', 'F', 'M' ]\n",
    "data"
   ]
  },
  {
   "cell_type": "code",
   "execution_count": 64,
   "id": "13e70bdc-df03-4a53-90a2-344adcf92e83",
   "metadata": {},
   "outputs": [],
   "source": [
    "data.drop(columns='Matricule', axis=1, inplace=True)"
   ]
  },
  {
   "cell_type": "code",
   "execution_count": 65,
   "id": "af55aa7e-320f-4e7f-9c21-267afd8a9a3b",
   "metadata": {},
   "outputs": [
    {
     "data": {
      "text/html": [
       "<div>\n",
       "<style scoped>\n",
       "    .dataframe tbody tr th:only-of-type {\n",
       "        vertical-align: middle;\n",
       "    }\n",
       "\n",
       "    .dataframe tbody tr th {\n",
       "        vertical-align: top;\n",
       "    }\n",
       "\n",
       "    .dataframe thead th {\n",
       "        text-align: right;\n",
       "    }\n",
       "</style>\n",
       "<table border=\"1\" class=\"dataframe\">\n",
       "  <thead>\n",
       "    <tr style=\"text-align: right;\">\n",
       "      <th></th>\n",
       "      <th>Nom</th>\n",
       "      <th>Prenom</th>\n",
       "      <th>Promotion</th>\n",
       "      <th>Age</th>\n",
       "      <th>Genre</th>\n",
       "    </tr>\n",
       "  </thead>\n",
       "  <tbody>\n",
       "    <tr>\n",
       "      <th>0</th>\n",
       "      <td>KISIMBIKA</td>\n",
       "      <td>Gloire</td>\n",
       "      <td>BAC4 SI</td>\n",
       "      <td>24</td>\n",
       "      <td>M</td>\n",
       "    </tr>\n",
       "    <tr>\n",
       "      <th>1</th>\n",
       "      <td>MWEPU</td>\n",
       "      <td>Cledia</td>\n",
       "      <td>BAC4 SI</td>\n",
       "      <td>20</td>\n",
       "      <td>F</td>\n",
       "    </tr>\n",
       "    <tr>\n",
       "      <th>2</th>\n",
       "      <td>MUSAU</td>\n",
       "      <td>Christelle</td>\n",
       "      <td>BAC4 SI</td>\n",
       "      <td>21</td>\n",
       "      <td>F</td>\n",
       "    </tr>\n",
       "    <tr>\n",
       "      <th>3</th>\n",
       "      <td>KAVUL</td>\n",
       "      <td>Eunice</td>\n",
       "      <td>BAC4 SI</td>\n",
       "      <td>24</td>\n",
       "      <td>F</td>\n",
       "    </tr>\n",
       "    <tr>\n",
       "      <th>4</th>\n",
       "      <td>MONGA</td>\n",
       "      <td>Issac</td>\n",
       "      <td>BAC4 SI</td>\n",
       "      <td>23</td>\n",
       "      <td>M</td>\n",
       "    </tr>\n",
       "  </tbody>\n",
       "</table>\n",
       "</div>"
      ],
      "text/plain": [
       "         Nom      Prenom Promotion  Age Genre\n",
       "0  KISIMBIKA      Gloire   BAC4 SI   24     M\n",
       "1      MWEPU      Cledia   BAC4 SI   20     F\n",
       "2      MUSAU  Christelle   BAC4 SI   21     F\n",
       "3      KAVUL      Eunice   BAC4 SI   24     F\n",
       "4      MONGA       Issac   BAC4 SI   23     M"
      ]
     },
     "execution_count": 65,
     "metadata": {},
     "output_type": "execute_result"
    }
   ],
   "source": [
    "data"
   ]
  },
  {
   "cell_type": "code",
   "execution_count": 66,
   "id": "1474bdce-98e2-47db-82b4-45fa78e27f8c",
   "metadata": {},
   "outputs": [
    {
     "data": {
      "text/plain": [
       "20"
      ]
     },
     "execution_count": 66,
     "metadata": {},
     "output_type": "execute_result"
    }
   ],
   "source": [
    "data['Age'].min()"
   ]
  },
  {
   "cell_type": "code",
   "execution_count": 70,
   "id": "fdacf9f0-23a2-4a1b-9abd-89e461a16159",
   "metadata": {},
   "outputs": [
    {
     "data": {
      "text/html": [
       "<div>\n",
       "<style scoped>\n",
       "    .dataframe tbody tr th:only-of-type {\n",
       "        vertical-align: middle;\n",
       "    }\n",
       "\n",
       "    .dataframe tbody tr th {\n",
       "        vertical-align: top;\n",
       "    }\n",
       "\n",
       "    .dataframe thead th {\n",
       "        text-align: right;\n",
       "    }\n",
       "</style>\n",
       "<table border=\"1\" class=\"dataframe\">\n",
       "  <thead>\n",
       "    <tr style=\"text-align: right;\">\n",
       "      <th></th>\n",
       "      <th>Nom</th>\n",
       "      <th>Prenom</th>\n",
       "      <th>Promotion</th>\n",
       "      <th>Age</th>\n",
       "      <th>Genre</th>\n",
       "    </tr>\n",
       "  </thead>\n",
       "  <tbody>\n",
       "    <tr>\n",
       "      <th>1</th>\n",
       "      <td>MWEPU</td>\n",
       "      <td>Cledia</td>\n",
       "      <td>BAC4 SI</td>\n",
       "      <td>20</td>\n",
       "      <td>F</td>\n",
       "    </tr>\n",
       "    <tr>\n",
       "      <th>2</th>\n",
       "      <td>MUSAU</td>\n",
       "      <td>Christelle</td>\n",
       "      <td>BAC4 SI</td>\n",
       "      <td>21</td>\n",
       "      <td>F</td>\n",
       "    </tr>\n",
       "    <tr>\n",
       "      <th>4</th>\n",
       "      <td>MONGA</td>\n",
       "      <td>Issac</td>\n",
       "      <td>BAC4 SI</td>\n",
       "      <td>23</td>\n",
       "      <td>M</td>\n",
       "    </tr>\n",
       "  </tbody>\n",
       "</table>\n",
       "</div>"
      ],
      "text/plain": [
       "     Nom      Prenom Promotion  Age Genre\n",
       "1  MWEPU      Cledia   BAC4 SI   20     F\n",
       "2  MUSAU  Christelle   BAC4 SI   21     F\n",
       "4  MONGA       Issac   BAC4 SI   23     M"
      ]
     },
     "execution_count": 70,
     "metadata": {},
     "output_type": "execute_result"
    }
   ],
   "source": [
    "data[data['Age'] < 24]"
   ]
  },
  {
   "cell_type": "code",
   "execution_count": 71,
   "id": "a7e89609-d2a3-45ff-aa7e-0bb1026f2f22",
   "metadata": {},
   "outputs": [
    {
     "data": {
      "text/html": [
       "<div>\n",
       "<style scoped>\n",
       "    .dataframe tbody tr th:only-of-type {\n",
       "        vertical-align: middle;\n",
       "    }\n",
       "\n",
       "    .dataframe tbody tr th {\n",
       "        vertical-align: top;\n",
       "    }\n",
       "\n",
       "    .dataframe thead th {\n",
       "        text-align: right;\n",
       "    }\n",
       "</style>\n",
       "<table border=\"1\" class=\"dataframe\">\n",
       "  <thead>\n",
       "    <tr style=\"text-align: right;\">\n",
       "      <th></th>\n",
       "      <th>Nom</th>\n",
       "      <th>Prenom</th>\n",
       "      <th>Promotion</th>\n",
       "      <th>Age</th>\n",
       "      <th>Genre</th>\n",
       "    </tr>\n",
       "  </thead>\n",
       "  <tbody>\n",
       "    <tr>\n",
       "      <th>0</th>\n",
       "      <td>KISIMBIKA</td>\n",
       "      <td>Gloire</td>\n",
       "      <td>BAC4 SI</td>\n",
       "      <td>24</td>\n",
       "      <td>M</td>\n",
       "    </tr>\n",
       "    <tr>\n",
       "      <th>1</th>\n",
       "      <td>MWEPU</td>\n",
       "      <td>Cledia</td>\n",
       "      <td>BAC4 SI</td>\n",
       "      <td>20</td>\n",
       "      <td>F</td>\n",
       "    </tr>\n",
       "    <tr>\n",
       "      <th>2</th>\n",
       "      <td>MUSAU</td>\n",
       "      <td>Christelle</td>\n",
       "      <td>BAC4 SI</td>\n",
       "      <td>21</td>\n",
       "      <td>F</td>\n",
       "    </tr>\n",
       "    <tr>\n",
       "      <th>3</th>\n",
       "      <td>KAVUL</td>\n",
       "      <td>Eunice</td>\n",
       "      <td>BAC4 SI</td>\n",
       "      <td>24</td>\n",
       "      <td>F</td>\n",
       "    </tr>\n",
       "    <tr>\n",
       "      <th>4</th>\n",
       "      <td>MONGA</td>\n",
       "      <td>Issac</td>\n",
       "      <td>BAC4 SI</td>\n",
       "      <td>23</td>\n",
       "      <td>M</td>\n",
       "    </tr>\n",
       "  </tbody>\n",
       "</table>\n",
       "</div>"
      ],
      "text/plain": [
       "         Nom      Prenom Promotion  Age Genre\n",
       "0  KISIMBIKA      Gloire   BAC4 SI   24     M\n",
       "1      MWEPU      Cledia   BAC4 SI   20     F\n",
       "2      MUSAU  Christelle   BAC4 SI   21     F\n",
       "3      KAVUL      Eunice   BAC4 SI   24     F\n",
       "4      MONGA       Issac   BAC4 SI   23     M"
      ]
     },
     "execution_count": 71,
     "metadata": {},
     "output_type": "execute_result"
    }
   ],
   "source": [
    "data.head()"
   ]
  },
  {
   "cell_type": "code",
   "execution_count": 75,
   "id": "c8b0cd32-b178-4247-b9a5-ade1d3985f34",
   "metadata": {},
   "outputs": [
    {
     "data": {
      "text/html": [
       "<div>\n",
       "<style scoped>\n",
       "    .dataframe tbody tr th:only-of-type {\n",
       "        vertical-align: middle;\n",
       "    }\n",
       "\n",
       "    .dataframe tbody tr th {\n",
       "        vertical-align: top;\n",
       "    }\n",
       "\n",
       "    .dataframe thead th {\n",
       "        text-align: right;\n",
       "    }\n",
       "</style>\n",
       "<table border=\"1\" class=\"dataframe\">\n",
       "  <thead>\n",
       "    <tr style=\"text-align: right;\">\n",
       "      <th></th>\n",
       "      <th>Prenom</th>\n",
       "    </tr>\n",
       "  </thead>\n",
       "  <tbody>\n",
       "    <tr>\n",
       "      <th>1</th>\n",
       "      <td>Cledia</td>\n",
       "    </tr>\n",
       "  </tbody>\n",
       "</table>\n",
       "</div>"
      ],
      "text/plain": [
       "   Prenom\n",
       "1  Cledia"
      ]
     },
     "execution_count": 75,
     "metadata": {},
     "output_type": "execute_result"
    }
   ],
   "source": [
    "data.iloc[1:2, 1:2]"
   ]
  },
  {
   "cell_type": "markdown",
   "id": "e17c8385-b2f9-4c8b-80e7-7383cec467f2",
   "metadata": {},
   "source": [
    "# 3. Visualisation des donnees"
   ]
  },
  {
   "cell_type": "code",
   "execution_count": 81,
   "id": "221c48c9-14b3-464e-af08-24b0069ab3f0",
   "metadata": {},
   "outputs": [],
   "source": [
    "x = np.linspace(0, 2, 50)"
   ]
  },
  {
   "cell_type": "code",
   "execution_count": 82,
   "id": "15cde9f9-5f50-45d2-93cf-db80e3336c92",
   "metadata": {},
   "outputs": [
    {
     "data": {
      "text/plain": [
       "array([0.        , 0.04081633, 0.08163265, 0.12244898, 0.16326531,\n",
       "       0.20408163, 0.24489796, 0.28571429, 0.32653061, 0.36734694,\n",
       "       0.40816327, 0.44897959, 0.48979592, 0.53061224, 0.57142857,\n",
       "       0.6122449 , 0.65306122, 0.69387755, 0.73469388, 0.7755102 ,\n",
       "       0.81632653, 0.85714286, 0.89795918, 0.93877551, 0.97959184,\n",
       "       1.02040816, 1.06122449, 1.10204082, 1.14285714, 1.18367347,\n",
       "       1.2244898 , 1.26530612, 1.30612245, 1.34693878, 1.3877551 ,\n",
       "       1.42857143, 1.46938776, 1.51020408, 1.55102041, 1.59183673,\n",
       "       1.63265306, 1.67346939, 1.71428571, 1.75510204, 1.79591837,\n",
       "       1.83673469, 1.87755102, 1.91836735, 1.95918367, 2.        ])"
      ]
     },
     "execution_count": 82,
     "metadata": {},
     "output_type": "execute_result"
    }
   ],
   "source": [
    "x"
   ]
  },
  {
   "cell_type": "code",
   "execution_count": 93,
   "id": "707a7b3a-c166-46e5-92db-6b1d4d60d9c7",
   "metadata": {},
   "outputs": [
    {
     "data": {
      "text/plain": [
       "<matplotlib.legend.Legend at 0x2025fbcc310>"
      ]
     },
     "execution_count": 93,
     "metadata": {},
     "output_type": "execute_result"
    },
    {
     "data": {
      "image/png": "[encoded data removed]",
      "text/plain": [
       "<Figure size 640x480 with 1 Axes>"
      ]
     },
     "metadata": {},
     "output_type": "display_data"
    }
   ],
   "source": [
    "#fig, ax = (figsize=(4, 5))\n",
    "plt.plot(x, x**2, label='Double')\n",
    "plt.plot(x, x**3, label='Cube')\n",
    "plt.plot(x, x**4, label='Quadra')\n",
    "plt.xlabel('Donnees en X simple')\n",
    "plt.ylabel('Donnees transformees')\n",
    "plt.title('Graphe Papy')\n",
    "plt.legend()"
   ]
  },
  {
   "cell_type": "code",
   "execution_count": null,
   "id": "bb2f2b91-bf32-4985-9f2f-eb719752ae66",
   "metadata": {},
   "outputs": [],
   "source": []
  },
  {
   "cell_type": "code",
   "execution_count": null,
   "id": "01d6a120-fd53-43c8-95cf-2a9cbe432566",
   "metadata": {},
   "outputs": [],
   "source": []
  }
 ],
 "metadata": {
  "kernelspec": {
   "display_name": "Python 3 (ipykernel)",
   "language": "python",
   "name": "python3"
  },
  "language_info": {
   "codemirror_mode": {
    "name": "ipython",
    "version": 3
   },
   "file_extension": ".py",
   "mimetype": "text/x-python",
   "name": "python",
   "nbconvert_exporter": "python",
   "pygments_lexer": "ipython3",
   "version": "3.10.13"
  }
 },
 "nbformat": 4,
 "nbformat_minor": 5
}
