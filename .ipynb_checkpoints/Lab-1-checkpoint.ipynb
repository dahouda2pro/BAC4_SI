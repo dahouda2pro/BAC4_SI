{
 "cells": [
  {
   "cell_type": "markdown",
   "id": "3d9cbea9-d0e7-4425-8250-2e91e305a7cd",
   "metadata": {},
   "source": [
    "# 1. Creation de Tableaux"
   ]
  },
  {
   "cell_type": "code",
   "execution_count": 21,
   "id": "f0178c74-8bf9-4f18-ba7d-8f404e3b8b81",
   "metadata": {},
   "outputs": [],
   "source": [
    "import numpy as np"
   ]
  },
  {
   "cell_type": "code",
   "execution_count": 22,
   "id": "bd030c47-4533-473b-9eaa-5dfa64940785",
   "metadata": {},
   "outputs": [
    {
     "name": "stdout",
     "output_type": "stream",
     "text": [
      "Shape du tableau (4,)\n",
      "[2 3 5 7]\n"
     ]
    }
   ],
   "source": [
    "tab_1D = np.array([2, 3, 5, 7])\n",
    "print(\"Shape du tableau\", tab_1D.shape)\n",
    "print(tab_1D)"
   ]
  },
  {
   "cell_type": "code",
   "execution_count": 25,
   "id": "768aae99-dfa9-45d9-a9b0-1f3cfc4ce1e6",
   "metadata": {},
   "outputs": [
    {
     "name": "stdout",
     "output_type": "stream",
     "text": [
      "Shape du tableau (2, 5)\n",
      "[[ 2  4  6  8 10]\n",
      " [20 40 60 80 10]]\n"
     ]
    }
   ],
   "source": [
    "tab_2D = np.array([[2, 4, 6, 8, 10],\n",
    "                   [20, 40, 60, 80, 10]])\n",
    "print(\"Shape du tableau\", tab_2D.shape)\n",
    "print(tab_2D)"
   ]
  },
  {
   "cell_type": "code",
   "execution_count": 26,
   "id": "629d94f3-9239-4ed7-ae5c-972562f8d117",
   "metadata": {},
   "outputs": [
    {
     "name": "stdout",
     "output_type": "stream",
     "text": [
      "Shape du tableau (1, 2, 4)\n",
      "[[[ 10  20  30  40]\n",
      "  [100 200 300 400]]]\n"
     ]
    }
   ],
   "source": [
    "tab_3D = np.array([[[10, 20, 30, 40],\n",
    "                    [100, 200, 300, 400]]])\n",
    "print(\"Shape du tableau\", tab_3D.shape)\n",
    "print(tab_3D)"
   ]
  },
  {
   "cell_type": "markdown",
   "id": "aad43f24-6873-4516-acf8-406b41efd062",
   "metadata": {},
   "source": [
    "## 2. Manipulation des donnees"
   ]
  },
  {
   "cell_type": "code",
   "execution_count": 27,
   "id": "757eeeb1-385e-4c5a-8f38-4982e63d61c2",
   "metadata": {},
   "outputs": [],
   "source": [
    "import pandas as pd"
   ]
  },
  {
   "cell_type": "code",
   "execution_count": 37,
   "id": "8cac7ab1-0701-4ed3-93b4-9b7d689799f5",
   "metadata": {},
   "outputs": [],
   "source": [
    "etudiants_BAC = {\n",
    "    'nom': ['OMALANGA', 'MWAMBA', 'KYANDA', 'NGONGO', 'LUKUMU', 'SIMBI', 'SIMBA'],\n",
    "    'prenom': ['Daniel','Shekina','Nathalie', 'Jonathan','Jedidja', 'Jenny', 'Jack'],\n",
    "    'Age': [25, 24, 22, 23, 26, 26, 23]}"
   ]
  },
  {
   "cell_type": "code",
   "execution_count": 38,
   "id": "a3714b32-0e80-4719-941b-09996f6415e1",
   "metadata": {},
   "outputs": [
    {
     "name": "stdout",
     "output_type": "stream",
     "text": [
      "(7, 3)\n"
     ]
    },
    {
     "data": {
      "text/html": [
       "<div>\n",
       "<style scoped>\n",
       "    .dataframe tbody tr th:only-of-type {\n",
       "        vertical-align: middle;\n",
       "    }\n",
       "\n",
       "    .dataframe tbody tr th {\n",
       "        vertical-align: top;\n",
       "    }\n",
       "\n",
       "    .dataframe thead th {\n",
       "        text-align: right;\n",
       "    }\n",
       "</style>\n",
       "<table border=\"1\" class=\"dataframe\">\n",
       "  <thead>\n",
       "    <tr style=\"text-align: right;\">\n",
       "      <th></th>\n",
       "      <th>nom</th>\n",
       "      <th>prenom</th>\n",
       "      <th>Age</th>\n",
       "    </tr>\n",
       "  </thead>\n",
       "  <tbody>\n",
       "    <tr>\n",
       "      <th>0</th>\n",
       "      <td>OMALANGA</td>\n",
       "      <td>Daniel</td>\n",
       "      <td>25</td>\n",
       "    </tr>\n",
       "    <tr>\n",
       "      <th>1</th>\n",
       "      <td>MWAMBA</td>\n",
       "      <td>Shekina</td>\n",
       "      <td>24</td>\n",
       "    </tr>\n",
       "    <tr>\n",
       "      <th>2</th>\n",
       "      <td>KYANDA</td>\n",
       "      <td>Nathalie</td>\n",
       "      <td>22</td>\n",
       "    </tr>\n",
       "    <tr>\n",
       "      <th>3</th>\n",
       "      <td>NGONGO</td>\n",
       "      <td>Jonathan</td>\n",
       "      <td>23</td>\n",
       "    </tr>\n",
       "    <tr>\n",
       "      <th>4</th>\n",
       "      <td>LUKUMU</td>\n",
       "      <td>Jedidja</td>\n",
       "      <td>26</td>\n",
       "    </tr>\n",
       "    <tr>\n",
       "      <th>5</th>\n",
       "      <td>SIMBI</td>\n",
       "      <td>Jenny</td>\n",
       "      <td>26</td>\n",
       "    </tr>\n",
       "    <tr>\n",
       "      <th>6</th>\n",
       "      <td>SIMBA</td>\n",
       "      <td>Jack</td>\n",
       "      <td>23</td>\n",
       "    </tr>\n",
       "  </tbody>\n",
       "</table>\n",
       "</div>"
      ],
      "text/plain": [
       "        nom    prenom  Age\n",
       "0  OMALANGA    Daniel   25\n",
       "1    MWAMBA   Shekina   24\n",
       "2    KYANDA  Nathalie   22\n",
       "3    NGONGO  Jonathan   23\n",
       "4    LUKUMU   Jedidja   26\n",
       "5     SIMBI     Jenny   26\n",
       "6     SIMBA      Jack   23"
      ]
     },
     "execution_count": 38,
     "metadata": {},
     "output_type": "execute_result"
    }
   ],
   "source": [
    "data_BAC4_SI = pd.DataFrame(etudiants_BAC)\n",
    "print(data_BAC4_SI.shape)\n",
    "data_BAC4_SI"
   ]
  },
  {
   "cell_type": "code",
   "execution_count": 39,
   "id": "3da01880-ac00-4be4-971b-b65272ec287b",
   "metadata": {},
   "outputs": [
    {
     "name": "stdout",
     "output_type": "stream",
     "text": [
      "<class 'pandas.core.frame.DataFrame'>\n",
      "RangeIndex: 7 entries, 0 to 6\n",
      "Data columns (total 3 columns):\n",
      " #   Column  Non-Null Count  Dtype \n",
      "---  ------  --------------  ----- \n",
      " 0   nom     7 non-null      object\n",
      " 1   prenom  7 non-null      object\n",
      " 2   Age     7 non-null      int64 \n",
      "dtypes: int64(1), object(2)\n",
      "memory usage: 296.0+ bytes\n"
     ]
    }
   ],
   "source": [
    "data_BAC4_SI.info()"
   ]
  },
  {
   "cell_type": "code",
   "execution_count": 40,
   "id": "fd55ef3a-c33b-42ad-aa5a-6f256d022eea",
   "metadata": {},
   "outputs": [
    {
     "data": {
      "text/plain": [
       "nom       0\n",
       "prenom    0\n",
       "Age       0\n",
       "dtype: int64"
      ]
     },
     "execution_count": 40,
     "metadata": {},
     "output_type": "execute_result"
    }
   ],
   "source": [
    "data_BAC4_SI.isnull().sum()"
   ]
  },
  {
   "cell_type": "code",
   "execution_count": null,
   "id": "fba79a4c-cce8-423b-9261-45eba2fd4661",
   "metadata": {},
   "outputs": [],
   "source": []
  },
  {
   "cell_type": "code",
   "execution_count": null,
   "id": "e85938c3-c58b-4ee8-aaa5-25ef5b237286",
   "metadata": {},
   "outputs": [],
   "source": []
  },
  {
   "cell_type": "code",
   "execution_count": null,
   "id": "c6e70abb-f1d3-4818-b36c-abc817090811",
   "metadata": {},
   "outputs": [],
   "source": []
  }
 ],
 "metadata": {
  "kernelspec": {
   "display_name": "Python 3 (ipykernel)",
   "language": "python",
   "name": "python3"
  },
  "language_info": {
   "codemirror_mode": {
    "name": "ipython",
    "version": 3
   },
   "file_extension": ".py",
   "mimetype": "text/x-python",
   "name": "python",
   "nbconvert_exporter": "python",
   "pygments_lexer": "ipython3",
   "version": "3.10.16"
  }
 },
 "nbformat": 4,
 "nbformat_minor": 5
}
