{
 "cells": [
  {
   "cell_type": "markdown",
   "id": "3d9cbea9-d0e7-4425-8250-2e91e305a7cd",
   "metadata": {},
   "source": [
    "# 1. Creation de Tableaux"
   ]
  },
  {
   "cell_type": "code",
   "execution_count": 1,
   "id": "f0178c74-8bf9-4f18-ba7d-8f404e3b8b81",
   "metadata": {},
   "outputs": [],
   "source": [
    "import numpy as np"
   ]
  },
  {
   "cell_type": "code",
   "execution_count": 2,
   "id": "bd030c47-4533-473b-9eaa-5dfa64940785",
   "metadata": {},
   "outputs": [
    {
     "name": "stdout",
     "output_type": "stream",
     "text": [
      "Shape du tableau (4,)\n",
      "[2 3 5 7]\n"
     ]
    }
   ],
   "source": [
    "tab_1D = np.array([2, 3, 5, 7])\n",
    "print(\"Shape du tableau\", tab_1D.shape)\n",
    "print(tab_1D)"
   ]
  },
  {
   "cell_type": "code",
   "execution_count": 3,
   "id": "768aae99-dfa9-45d9-a9b0-1f3cfc4ce1e6",
   "metadata": {},
   "outputs": [
    {
     "name": "stdout",
     "output_type": "stream",
     "text": [
      "Shape du tableau (2, 5)\n",
      "[[ 2  4  6  8 10]\n",
      " [20 40 60 80 10]]\n"
     ]
    }
   ],
   "source": [
    "tab_2D = np.array([[2, 4, 6, 8, 10],\n",
    "                   [20, 40, 60, 80, 10]])\n",
    "print(\"Shape du tableau\", tab_2D.shape)\n",
    "print(tab_2D)"
   ]
  },
  {
   "cell_type": "code",
   "execution_count": 4,
   "id": "629d94f3-9239-4ed7-ae5c-972562f8d117",
   "metadata": {},
   "outputs": [
    {
     "name": "stdout",
     "output_type": "stream",
     "text": [
      "Shape du tableau (1, 2, 4)\n",
      "[[[ 10  20  30  40]\n",
      "  [100 200 300 400]]]\n"
     ]
    }
   ],
   "source": [
    "tab_3D = np.array([[[10, 20, 30, 40],\n",
    "                    [100, 200, 300, 400]]])\n",
    "print(\"Shape du tableau\", tab_3D.shape)\n",
    "print(tab_3D)"
   ]
  },
  {
   "cell_type": "markdown",
   "id": "aad43f24-6873-4516-acf8-406b41efd062",
   "metadata": {},
   "source": [
    "## 2. Manipulation des donnees"
   ]
  },
  {
   "cell_type": "code",
   "execution_count": 5,
   "id": "757eeeb1-385e-4c5a-8f38-4982e63d61c2",
   "metadata": {},
   "outputs": [],
   "source": [
    "import pandas as pd"
   ]
  },
  {
   "cell_type": "code",
   "execution_count": 6,
   "id": "8cac7ab1-0701-4ed3-93b4-9b7d689799f5",
   "metadata": {},
   "outputs": [],
   "source": [
    "etudiants_BAC = {\n",
    "    'nom': ['OMALANGA', 'MWAMBA', 'KYANDA', 'NGONGO', 'LUKUMU', 'SIMBI', 'SIMBA'],\n",
    "    'prenom': ['Daniel','Shekina','Nathalie', 'Jonathan','Jedidja', 'Jenny', 'Jack'],\n",
    "    'Age': [25, 24, 22, 23, 26, 26, 23]}"
   ]
  },
  {
   "cell_type": "code",
   "execution_count": 7,
   "id": "a3714b32-0e80-4719-941b-09996f6415e1",
   "metadata": {},
   "outputs": [
    {
     "name": "stdout",
     "output_type": "stream",
     "text": [
      "(7, 3)\n"
     ]
    },
    {
     "data": {
      "text/html": [
       "<div>\n",
       "<style scoped>\n",
       "    .dataframe tbody tr th:only-of-type {\n",
       "        vertical-align: middle;\n",
       "    }\n",
       "\n",
       "    .dataframe tbody tr th {\n",
       "        vertical-align: top;\n",
       "    }\n",
       "\n",
       "    .dataframe thead th {\n",
       "        text-align: right;\n",
       "    }\n",
       "</style>\n",
       "<table border=\"1\" class=\"dataframe\">\n",
       "  <thead>\n",
       "    <tr style=\"text-align: right;\">\n",
       "      <th></th>\n",
       "      <th>nom</th>\n",
       "      <th>prenom</th>\n",
       "      <th>Age</th>\n",
       "    </tr>\n",
       "  </thead>\n",
       "  <tbody>\n",
       "    <tr>\n",
       "      <th>0</th>\n",
       "      <td>OMALANGA</td>\n",
       "      <td>Daniel</td>\n",
       "      <td>25</td>\n",
       "    </tr>\n",
       "    <tr>\n",
       "      <th>1</th>\n",
       "      <td>MWAMBA</td>\n",
       "      <td>Shekina</td>\n",
       "      <td>24</td>\n",
       "    </tr>\n",
       "    <tr>\n",
       "      <th>2</th>\n",
       "      <td>KYANDA</td>\n",
       "      <td>Nathalie</td>\n",
       "      <td>22</td>\n",
       "    </tr>\n",
       "    <tr>\n",
       "      <th>3</th>\n",
       "      <td>NGONGO</td>\n",
       "      <td>Jonathan</td>\n",
       "      <td>23</td>\n",
       "    </tr>\n",
       "    <tr>\n",
       "      <th>4</th>\n",
       "      <td>LUKUMU</td>\n",
       "      <td>Jedidja</td>\n",
       "      <td>26</td>\n",
       "    </tr>\n",
       "    <tr>\n",
       "      <th>5</th>\n",
       "      <td>SIMBI</td>\n",
       "      <td>Jenny</td>\n",
       "      <td>26</td>\n",
       "    </tr>\n",
       "    <tr>\n",
       "      <th>6</th>\n",
       "      <td>SIMBA</td>\n",
       "      <td>Jack</td>\n",
       "      <td>23</td>\n",
       "    </tr>\n",
       "  </tbody>\n",
       "</table>\n",
       "</div>"
      ],
      "text/plain": [
       "        nom    prenom  Age\n",
       "0  OMALANGA    Daniel   25\n",
       "1    MWAMBA   Shekina   24\n",
       "2    KYANDA  Nathalie   22\n",
       "3    NGONGO  Jonathan   23\n",
       "4    LUKUMU   Jedidja   26\n",
       "5     SIMBI     Jenny   26\n",
       "6     SIMBA      Jack   23"
      ]
     },
     "execution_count": 7,
     "metadata": {},
     "output_type": "execute_result"
    }
   ],
   "source": [
    "data_BAC4_SI = pd.DataFrame(etudiants_BAC)\n",
    "print(data_BAC4_SI.shape)\n",
    "data_BAC4_SI"
   ]
  },
  {
   "cell_type": "code",
   "execution_count": 8,
   "id": "3da01880-ac00-4be4-971b-b65272ec287b",
   "metadata": {},
   "outputs": [
    {
     "name": "stdout",
     "output_type": "stream",
     "text": [
      "<class 'pandas.core.frame.DataFrame'>\n",
      "RangeIndex: 7 entries, 0 to 6\n",
      "Data columns (total 3 columns):\n",
      " #   Column  Non-Null Count  Dtype \n",
      "---  ------  --------------  ----- \n",
      " 0   nom     7 non-null      object\n",
      " 1   prenom  7 non-null      object\n",
      " 2   Age     7 non-null      int64 \n",
      "dtypes: int64(1), object(2)\n",
      "memory usage: 296.0+ bytes\n"
     ]
    }
   ],
   "source": [
    "data_BAC4_SI.info()"
   ]
  },
  {
   "cell_type": "code",
   "execution_count": 9,
   "id": "fd55ef3a-c33b-42ad-aa5a-6f256d022eea",
   "metadata": {},
   "outputs": [
    {
     "data": {
      "text/plain": [
       "nom       0\n",
       "prenom    0\n",
       "Age       0\n",
       "dtype: int64"
      ]
     },
     "execution_count": 9,
     "metadata": {},
     "output_type": "execute_result"
    }
   ],
   "source": [
    "data_BAC4_SI.isnull().sum()"
   ]
  },
  {
   "cell_type": "code",
   "execution_count": 10,
   "id": "3eef3f57-678b-4677-91fd-6b3523985943",
   "metadata": {},
   "outputs": [
    {
     "data": {
      "text/html": [
       "<div>\n",
       "<style scoped>\n",
       "    .dataframe tbody tr th:only-of-type {\n",
       "        vertical-align: middle;\n",
       "    }\n",
       "\n",
       "    .dataframe tbody tr th {\n",
       "        vertical-align: top;\n",
       "    }\n",
       "\n",
       "    .dataframe thead th {\n",
       "        text-align: right;\n",
       "    }\n",
       "</style>\n",
       "<table border=\"1\" class=\"dataframe\">\n",
       "  <thead>\n",
       "    <tr style=\"text-align: right;\">\n",
       "      <th></th>\n",
       "      <th>nom</th>\n",
       "      <th>prenom</th>\n",
       "      <th>Age</th>\n",
       "    </tr>\n",
       "  </thead>\n",
       "  <tbody>\n",
       "    <tr>\n",
       "      <th>0</th>\n",
       "      <td>OMALANGA</td>\n",
       "      <td>Daniel</td>\n",
       "      <td>25</td>\n",
       "    </tr>\n",
       "    <tr>\n",
       "      <th>1</th>\n",
       "      <td>MWAMBA</td>\n",
       "      <td>Shekina</td>\n",
       "      <td>24</td>\n",
       "    </tr>\n",
       "  </tbody>\n",
       "</table>\n",
       "</div>"
      ],
      "text/plain": [
       "        nom   prenom  Age\n",
       "0  OMALANGA   Daniel   25\n",
       "1    MWAMBA  Shekina   24"
      ]
     },
     "execution_count": 10,
     "metadata": {},
     "output_type": "execute_result"
    }
   ],
   "source": [
    "data_BAC4_SI.head(2)"
   ]
  },
  {
   "cell_type": "code",
   "execution_count": 11,
   "id": "eaa4034f-d400-4066-8573-edfc7464c257",
   "metadata": {},
   "outputs": [],
   "source": [
    "# Ajout des colonnes\n",
    "data_BAC4_SI['Gender'] = ['M', 'M', 'F', 'M', 'M', 'M','M']"
   ]
  },
  {
   "cell_type": "code",
   "execution_count": 12,
   "id": "b14a3a24-53af-4153-86d8-42791f29abf7",
   "metadata": {},
   "outputs": [
    {
     "data": {
      "text/html": [
       "<div>\n",
       "<style scoped>\n",
       "    .dataframe tbody tr th:only-of-type {\n",
       "        vertical-align: middle;\n",
       "    }\n",
       "\n",
       "    .dataframe tbody tr th {\n",
       "        vertical-align: top;\n",
       "    }\n",
       "\n",
       "    .dataframe thead th {\n",
       "        text-align: right;\n",
       "    }\n",
       "</style>\n",
       "<table border=\"1\" class=\"dataframe\">\n",
       "  <thead>\n",
       "    <tr style=\"text-align: right;\">\n",
       "      <th></th>\n",
       "      <th>nom</th>\n",
       "      <th>prenom</th>\n",
       "      <th>Age</th>\n",
       "      <th>Gender</th>\n",
       "    </tr>\n",
       "  </thead>\n",
       "  <tbody>\n",
       "    <tr>\n",
       "      <th>0</th>\n",
       "      <td>OMALANGA</td>\n",
       "      <td>Daniel</td>\n",
       "      <td>25</td>\n",
       "      <td>M</td>\n",
       "    </tr>\n",
       "    <tr>\n",
       "      <th>1</th>\n",
       "      <td>MWAMBA</td>\n",
       "      <td>Shekina</td>\n",
       "      <td>24</td>\n",
       "      <td>M</td>\n",
       "    </tr>\n",
       "    <tr>\n",
       "      <th>2</th>\n",
       "      <td>KYANDA</td>\n",
       "      <td>Nathalie</td>\n",
       "      <td>22</td>\n",
       "      <td>F</td>\n",
       "    </tr>\n",
       "    <tr>\n",
       "      <th>3</th>\n",
       "      <td>NGONGO</td>\n",
       "      <td>Jonathan</td>\n",
       "      <td>23</td>\n",
       "      <td>M</td>\n",
       "    </tr>\n",
       "    <tr>\n",
       "      <th>4</th>\n",
       "      <td>LUKUMU</td>\n",
       "      <td>Jedidja</td>\n",
       "      <td>26</td>\n",
       "      <td>M</td>\n",
       "    </tr>\n",
       "    <tr>\n",
       "      <th>5</th>\n",
       "      <td>SIMBI</td>\n",
       "      <td>Jenny</td>\n",
       "      <td>26</td>\n",
       "      <td>M</td>\n",
       "    </tr>\n",
       "  </tbody>\n",
       "</table>\n",
       "</div>"
      ],
      "text/plain": [
       "        nom    prenom  Age Gender\n",
       "0  OMALANGA    Daniel   25      M\n",
       "1    MWAMBA   Shekina   24      M\n",
       "2    KYANDA  Nathalie   22      F\n",
       "3    NGONGO  Jonathan   23      M\n",
       "4    LUKUMU   Jedidja   26      M\n",
       "5     SIMBI     Jenny   26      M"
      ]
     },
     "execution_count": 12,
     "metadata": {},
     "output_type": "execute_result"
    }
   ],
   "source": [
    "data_BAC4_SI.head(6)"
   ]
  },
  {
   "cell_type": "code",
   "execution_count": 13,
   "id": "170ff559-7b1d-4922-bfd0-31b24cdee027",
   "metadata": {},
   "outputs": [
    {
     "data": {
      "text/html": [
       "<div>\n",
       "<style scoped>\n",
       "    .dataframe tbody tr th:only-of-type {\n",
       "        vertical-align: middle;\n",
       "    }\n",
       "\n",
       "    .dataframe tbody tr th {\n",
       "        vertical-align: top;\n",
       "    }\n",
       "\n",
       "    .dataframe thead th {\n",
       "        text-align: right;\n",
       "    }\n",
       "</style>\n",
       "<table border=\"1\" class=\"dataframe\">\n",
       "  <thead>\n",
       "    <tr style=\"text-align: right;\">\n",
       "      <th></th>\n",
       "      <th>nom</th>\n",
       "    </tr>\n",
       "  </thead>\n",
       "  <tbody>\n",
       "    <tr>\n",
       "      <th>3</th>\n",
       "      <td>NGONGO</td>\n",
       "    </tr>\n",
       "    <tr>\n",
       "      <th>4</th>\n",
       "      <td>LUKUMU</td>\n",
       "    </tr>\n",
       "  </tbody>\n",
       "</table>\n",
       "</div>"
      ],
      "text/plain": [
       "      nom\n",
       "3  NGONGO\n",
       "4  LUKUMU"
      ]
     },
     "execution_count": 13,
     "metadata": {},
     "output_type": "execute_result"
    }
   ],
   "source": [
    "data_BAC4_SI.iloc[ 3:5 , 0:1 ]"
   ]
  },
  {
   "cell_type": "markdown",
   "id": "de4a2d8e-8cb7-46d1-80ba-7ac8495b067c",
   "metadata": {},
   "source": [
    "# 3. Visualisation des donnees"
   ]
  },
  {
   "cell_type": "code",
   "execution_count": 14,
   "id": "c6e70abb-f1d3-4818-b36c-abc817090811",
   "metadata": {},
   "outputs": [],
   "source": [
    "import matplotlib.pyplot as plt"
   ]
  },
  {
   "cell_type": "code",
   "execution_count": 15,
   "id": "eac7415f-b696-4ff9-ad3d-03b503b09e17",
   "metadata": {},
   "outputs": [
    {
     "data": {
      "text/plain": [
       "array([0.        , 0.05263158, 0.10526316, 0.15789474, 0.21052632,\n",
       "       0.26315789, 0.31578947, 0.36842105, 0.42105263, 0.47368421,\n",
       "       0.52631579, 0.57894737, 0.63157895, 0.68421053, 0.73684211,\n",
       "       0.78947368, 0.84210526, 0.89473684, 0.94736842, 1.        ])"
      ]
     },
     "execution_count": 15,
     "metadata": {},
     "output_type": "execute_result"
    }
   ],
   "source": [
    "x = np.linspace(0, 1, 20)\n",
    "x"
   ]
  },
  {
   "cell_type": "code",
   "execution_count": 17,
   "id": "57a29e3d-afd1-48b7-b2f8-c18000dcc3c3",
   "metadata": {},
   "outputs": [
    {
     "data": {
      "text/plain": [
       "<matplotlib.legend.Legend at 0x18aad1e84c0>"
      ]
     },
     "execution_count": 17,
     "metadata": {},
     "output_type": "execute_result"
    },
    {
     "data": {
      "image/png": "[encoded data removed]",
      "text/plain": [
       "<Figure size 600x400 with 1 Axes>"
      ]
     },
     "metadata": {},
     "output_type": "display_data"
    }
   ],
   "source": [
    "fig, ax = plt.subplots(figsize=(6, 4))\n",
    "ax.plot(x, x*2, label='Double')\n",
    "ax.plot(x, x**2, label='Caree de X')\n",
    "ax.plot(x, x**3, label='Cube de X')\n",
    "ax.set_xlabel('Donnees de X')\n",
    "ax.set_ylabel('Donnees de Y')\n",
    "plt.title('Donnees de linspace entre 0 et 2')\n",
    "ax.legend()"
   ]
  },
  {
   "cell_type": "code",
   "execution_count": 18,
   "id": "76875b04-decc-41da-b04c-5746b508c342",
   "metadata": {},
   "outputs": [
    {
     "data": {
      "image/png": "[encoded data removed]",
      "text/plain": [
       "<Figure size 640x480 with 1 Axes>"
      ]
     },
     "metadata": {},
     "output_type": "display_data"
    }
   ],
   "source": [
    "plt.plot(x, x**2, label='Double')\n",
    "plt.plot(x, x**3, label='Triple')\n",
    "plt.plot(x, x**4, label=' x4')\n",
    "plt.xlabel('Valeur X')\n",
    "plt.ylabel('Valeur Y')\n",
    "plt.legend()\n",
    "plt.show()"
   ]
  },
  {
   "cell_type": "code",
   "execution_count": 19,
   "id": "2b9d3f10-2eaf-4b98-bed8-98aa1b7b8ddf",
   "metadata": {},
   "outputs": [
    {
     "data": {
      "text/html": [
       "<div>\n",
       "<style scoped>\n",
       "    .dataframe tbody tr th:only-of-type {\n",
       "        vertical-align: middle;\n",
       "    }\n",
       "\n",
       "    .dataframe tbody tr th {\n",
       "        vertical-align: top;\n",
       "    }\n",
       "\n",
       "    .dataframe thead th {\n",
       "        text-align: right;\n",
       "    }\n",
       "</style>\n",
       "<table border=\"1\" class=\"dataframe\">\n",
       "  <thead>\n",
       "    <tr style=\"text-align: right;\">\n",
       "      <th></th>\n",
       "      <th>nom</th>\n",
       "      <th>prenom</th>\n",
       "      <th>Age</th>\n",
       "      <th>Gender</th>\n",
       "    </tr>\n",
       "  </thead>\n",
       "  <tbody>\n",
       "    <tr>\n",
       "      <th>0</th>\n",
       "      <td>OMALANGA</td>\n",
       "      <td>Daniel</td>\n",
       "      <td>25</td>\n",
       "      <td>M</td>\n",
       "    </tr>\n",
       "    <tr>\n",
       "      <th>1</th>\n",
       "      <td>MWAMBA</td>\n",
       "      <td>Shekina</td>\n",
       "      <td>24</td>\n",
       "      <td>M</td>\n",
       "    </tr>\n",
       "    <tr>\n",
       "      <th>2</th>\n",
       "      <td>KYANDA</td>\n",
       "      <td>Nathalie</td>\n",
       "      <td>22</td>\n",
       "      <td>F</td>\n",
       "    </tr>\n",
       "    <tr>\n",
       "      <th>3</th>\n",
       "      <td>NGONGO</td>\n",
       "      <td>Jonathan</td>\n",
       "      <td>23</td>\n",
       "      <td>M</td>\n",
       "    </tr>\n",
       "    <tr>\n",
       "      <th>4</th>\n",
       "      <td>LUKUMU</td>\n",
       "      <td>Jedidja</td>\n",
       "      <td>26</td>\n",
       "      <td>M</td>\n",
       "    </tr>\n",
       "    <tr>\n",
       "      <th>5</th>\n",
       "      <td>SIMBI</td>\n",
       "      <td>Jenny</td>\n",
       "      <td>26</td>\n",
       "      <td>M</td>\n",
       "    </tr>\n",
       "    <tr>\n",
       "      <th>6</th>\n",
       "      <td>SIMBA</td>\n",
       "      <td>Jack</td>\n",
       "      <td>23</td>\n",
       "      <td>M</td>\n",
       "    </tr>\n",
       "  </tbody>\n",
       "</table>\n",
       "</div>"
      ],
      "text/plain": [
       "        nom    prenom  Age Gender\n",
       "0  OMALANGA    Daniel   25      M\n",
       "1    MWAMBA   Shekina   24      M\n",
       "2    KYANDA  Nathalie   22      F\n",
       "3    NGONGO  Jonathan   23      M\n",
       "4    LUKUMU   Jedidja   26      M\n",
       "5     SIMBI     Jenny   26      M\n",
       "6     SIMBA      Jack   23      M"
      ]
     },
     "execution_count": 19,
     "metadata": {},
     "output_type": "execute_result"
    }
   ],
   "source": [
    "data_BAC4_SI"
   ]
  },
  {
   "cell_type": "code",
   "execution_count": null,
   "id": "b791bd86-c994-4cf8-bd8b-3aa8bbcb2ea4",
   "metadata": {},
   "outputs": [],
   "source": []
  },
  {
   "cell_type": "code",
   "execution_count": null,
   "id": "1a22a40d-2970-4cff-b009-f8e5c1f62b0b",
   "metadata": {},
   "outputs": [],
   "source": []
  },
  {
   "cell_type": "code",
   "execution_count": null,
   "id": "c03b683c-fce4-4761-b987-855de89ab85c",
   "metadata": {},
   "outputs": [],
   "source": []
  }
 ],
 "metadata": {
  "kernelspec": {
   "display_name": "Python 3 (ipykernel)",
   "language": "python",
   "name": "python3"
  },
  "language_info": {
   "codemirror_mode": {
    "name": "ipython",
    "version": 3
   },
   "file_extension": ".py",
   "mimetype": "text/x-python",
   "name": "python",
   "nbconvert_exporter": "python",
   "pygments_lexer": "ipython3",
   "version": "3.10.16"
  }
 },
 "nbformat": 4,
 "nbformat_minor": 5
}
